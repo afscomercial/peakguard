{
  "cells": [
    {
      "cell_type": "markdown",
      "metadata": {},
      "source": [
        "# PeakGuard Training Pipeline (Global GRU with Device Embedding)\n",
        "\n",
        "This notebook trains a global GRU model using all devices' data stored in SQLite, saves artifacts with a new model id, and logs metrics/plots into SQLite for the dashboard.\n"
      ]
    },
    {
      "cell_type": "code",
      "execution_count": 21,
      "metadata": {},
      "outputs": [],
      "source": [
        "import os, sqlite3, json, math, shutil\n",
        "import numpy as np, pandas as pd\n",
        "from datetime import datetime\n",
        "from sklearn.preprocessing import StandardScaler\n",
        "import tensorflow as tf\n",
        "from tensorflow import keras\n",
        "from zoneinfo import ZoneInfo\n",
        "from pathlib import Path\n",
        "\n",
        "# Resolve project root robustly in Jupyter (no __file__)\n",
        "def resolve_project_root():\n",
        "    p = Path.cwd().resolve()\n",
        "    for _ in range(6):\n",
        "        if (p / 'pyproject.toml').exists() or (p / 'app').exists():\n",
        "            return p\n",
        "        if p.parent == p:\n",
        "            break\n",
        "        p = p.parent\n",
        "    return Path.cwd().resolve()\n",
        "\n",
        "PROJECT_ROOT = resolve_project_root()\n",
        "DB_PATH = os.environ.get('DB_PATH', str(PROJECT_ROOT / 'data' / 'peakguard.db'))\n",
        "ART_DIR = str(PROJECT_ROOT / 'artifacts')\n",
        "VERSIONS_DIR = str(Path(ART_DIR) / 'versions')\n",
        "LATEST_DIR = str(Path(ART_DIR) / 'latest')\n",
        "os.makedirs(VERSIONS_DIR, exist_ok=True)\n",
        "os.makedirs(LATEST_DIR, exist_ok=True)\n"
      ]
    },
    {
      "cell_type": "code",
      "execution_count": 22,
      "metadata": {},
      "outputs": [
        {
          "data": {
            "text/html": [
              "<div>\n",
              "<style scoped>\n",
              "    .dataframe tbody tr th:only-of-type {\n",
              "        vertical-align: middle;\n",
              "    }\n",
              "\n",
              "    .dataframe tbody tr th {\n",
              "        vertical-align: top;\n",
              "    }\n",
              "\n",
              "    .dataframe thead th {\n",
              "        text-align: right;\n",
              "    }\n",
              "</style>\n",
              "<table border=\"1\" class=\"dataframe\">\n",
              "  <thead>\n",
              "    <tr style=\"text-align: right;\">\n",
              "      <th></th>\n",
              "      <th>id</th>\n",
              "      <th>timezone</th>\n",
              "    </tr>\n",
              "  </thead>\n",
              "  <tbody>\n",
              "    <tr>\n",
              "      <th>0</th>\n",
              "      <td>1</td>\n",
              "      <td>America/New_York</td>\n",
              "    </tr>\n",
              "    <tr>\n",
              "      <th>1</th>\n",
              "      <td>2</td>\n",
              "      <td>Europe/Berlin</td>\n",
              "    </tr>\n",
              "  </tbody>\n",
              "</table>\n",
              "</div>"
            ],
            "text/plain": [
              "   id          timezone\n",
              "0   1  America/New_York\n",
              "1   2     Europe/Berlin"
            ]
          },
          "execution_count": 22,
          "metadata": {},
          "output_type": "execute_result"
        }
      ],
      "source": [
        "def read_sql_df(query, params=()):\n",
        "    with sqlite3.connect(DB_PATH) as conn:\n",
        "        return pd.read_sql_query(query, conn, params=params)\n",
        "\n",
        "devices = read_sql_df('SELECT id, timezone FROM devices ORDER BY id')\n",
        "devices\n"
      ]
    },
    {
      "cell_type": "code",
      "execution_count": 10,
      "metadata": {},
      "outputs": [
        {
          "name": "stderr",
          "output_type": "stream",
          "text": [
            "/var/folders/8b/gvyhprgn3t764q19dkq1gt2c0000gp/T/ipykernel_75811/2986979249.py:21: FutureWarning: 'H' is deprecated and will be removed in a future version, please use 'h' instead.\n",
            "  end_utc = pd.Timestamp.utcnow().floor('H')\n",
            "/var/folders/8b/gvyhprgn3t764q19dkq1gt2c0000gp/T/ipykernel_75811/2986979249.py:21: FutureWarning: 'H' is deprecated and will be removed in a future version, please use 'h' instead.\n",
            "  end_utc = pd.Timestamp.utcnow().floor('H')\n"
          ]
        },
        {
          "data": {
            "text/html": [
              "<div>\n",
              "<style scoped>\n",
              "    .dataframe tbody tr th:only-of-type {\n",
              "        vertical-align: middle;\n",
              "    }\n",
              "\n",
              "    .dataframe tbody tr th {\n",
              "        vertical-align: top;\n",
              "    }\n",
              "\n",
              "    .dataframe thead th {\n",
              "        text-align: right;\n",
              "    }\n",
              "</style>\n",
              "<table border=\"1\" class=\"dataframe\">\n",
              "  <thead>\n",
              "    <tr style=\"text-align: right;\">\n",
              "      <th></th>\n",
              "      <th>consumption</th>\n",
              "      <th>hour_sin</th>\n",
              "      <th>hour_cos</th>\n",
              "      <th>dow_sin</th>\n",
              "      <th>dow_cos</th>\n",
              "      <th>device_id</th>\n",
              "    </tr>\n",
              "  </thead>\n",
              "  <tbody>\n",
              "    <tr>\n",
              "      <th>2025-06-11 18:00:00</th>\n",
              "      <td>1.000000</td>\n",
              "      <td>-1.000000</td>\n",
              "      <td>-1.836970e-16</td>\n",
              "      <td>0.974928</td>\n",
              "      <td>-0.222521</td>\n",
              "      <td>2</td>\n",
              "    </tr>\n",
              "    <tr>\n",
              "      <th>2025-06-11 19:00:00</th>\n",
              "      <td>0.979811</td>\n",
              "      <td>-0.965926</td>\n",
              "      <td>2.588190e-01</td>\n",
              "      <td>0.974928</td>\n",
              "      <td>-0.222521</td>\n",
              "      <td>2</td>\n",
              "    </tr>\n",
              "    <tr>\n",
              "      <th>2025-06-11 20:00:00</th>\n",
              "      <td>0.926145</td>\n",
              "      <td>-0.866025</td>\n",
              "      <td>5.000000e-01</td>\n",
              "      <td>0.974928</td>\n",
              "      <td>-0.222521</td>\n",
              "      <td>2</td>\n",
              "    </tr>\n",
              "    <tr>\n",
              "      <th>2025-06-11 21:00:00</th>\n",
              "      <td>1.129726</td>\n",
              "      <td>-0.707107</td>\n",
              "      <td>7.071068e-01</td>\n",
              "      <td>0.974928</td>\n",
              "      <td>-0.222521</td>\n",
              "      <td>2</td>\n",
              "    </tr>\n",
              "    <tr>\n",
              "      <th>2025-06-11 22:00:00</th>\n",
              "      <td>1.157112</td>\n",
              "      <td>-0.500000</td>\n",
              "      <td>8.660254e-01</td>\n",
              "      <td>0.974928</td>\n",
              "      <td>-0.222521</td>\n",
              "      <td>2</td>\n",
              "    </tr>\n",
              "  </tbody>\n",
              "</table>\n",
              "</div>"
            ],
            "text/plain": [
              "                     consumption  hour_sin      hour_cos   dow_sin   dow_cos  \\\n",
              "2025-06-11 18:00:00     1.000000 -1.000000 -1.836970e-16  0.974928 -0.222521   \n",
              "2025-06-11 19:00:00     0.979811 -0.965926  2.588190e-01  0.974928 -0.222521   \n",
              "2025-06-11 20:00:00     0.926145 -0.866025  5.000000e-01  0.974928 -0.222521   \n",
              "2025-06-11 21:00:00     1.129726 -0.707107  7.071068e-01  0.974928 -0.222521   \n",
              "2025-06-11 22:00:00     1.157112 -0.500000  8.660254e-01  0.974928 -0.222521   \n",
              "\n",
              "                     device_id  \n",
              "2025-06-11 18:00:00          2  \n",
              "2025-06-11 19:00:00          2  \n",
              "2025-06-11 20:00:00          2  \n",
              "2025-06-11 21:00:00          2  \n",
              "2025-06-11 22:00:00          2  "
            ]
          },
          "execution_count": 10,
          "metadata": {},
          "output_type": "execute_result"
        }
      ],
      "source": [
        "def to_device_local(ts_utc, tz):\n",
        "    ts = pd.to_datetime(ts_utc, utc=True)\n",
        "    return ts.tz_convert(ZoneInfo(tz)).tz_convert(None)\n",
        "\n",
        "def make_features(df, device_id, device_tz):\n",
        "    # df: index=utc timestamp, column 'consumption'\n",
        "    if df.empty: return df\n",
        "    idx_local = pd.DatetimeIndex([to_device_local(t, device_tz) for t in df.index])\n",
        "    df_local = df.copy()\n",
        "    df_local.index = idx_local\n",
        "    df_local['hour'] = df_local.index.hour\n",
        "    df_local['dow'] = df_local.index.dayofweek\n",
        "    df_local['hour_sin'] = np.sin(2*np.pi*df_local['hour']/24)\n",
        "    df_local['hour_cos'] = np.cos(2*np.pi*df_local['hour']/24)\n",
        "    df_local['dow_sin'] = np.sin(2*np.pi*df_local['dow']/7)\n",
        "    df_local['dow_cos'] = np.cos(2*np.pi*df_local['dow']/7)\n",
        "    df_local['device_id'] = device_id\n",
        "    return df_local[['consumption','hour_sin','hour_cos','dow_sin','dow_cos','device_id']]\n",
        "\n",
        "def fetch_device_df(device_id, device_tz, days=90):\n",
        "    end_utc = pd.Timestamp.utcnow().floor('H')\n",
        "    start_utc = end_utc - pd.Timedelta(days=days)\n",
        "    df = read_sql_df(\n",
        "        'SELECT ts_utc, consumption FROM readings WHERE device_id=? AND ts_utc BETWEEN ? AND ? ORDER BY ts_utc',\n",
        "        (device_id, start_utc.strftime('%Y-%m-%d %H:%M:%S'), end_utc.strftime('%Y-%m-%d %H:%M:%S'))\n",
        "    )\n",
        "    df.index = pd.to_datetime(df['ts_utc'])\n",
        "    df = df.drop(columns=['ts_utc'])\n",
        "    return make_features(df, device_id, device_tz)\n",
        "\n",
        "frames = []\n",
        "for _, row in devices.iterrows():\n",
        "    frames.append(fetch_device_df(int(row.id), row.timezone))\n",
        "full = pd.concat(frames).sort_index()\n",
        "full.head()\n"
      ]
    },
    {
      "cell_type": "code",
      "execution_count": 23,
      "metadata": {},
      "outputs": [
        {
          "data": {
            "text/plain": [
              "((2833, 48, 5), (2833,), (2833, 1), 3)"
            ]
          },
          "execution_count": 23,
          "metadata": {},
          "output_type": "execute_result"
        }
      ],
      "source": [
        "# Build sequences\n",
        "WINDOW=48\n",
        "\n",
        "def make_sequences(df):\n",
        "    values = df[['consumption','hour_sin','hour_cos','dow_sin','dow_cos']].values.astype('float32')\n",
        "    X_seq, y = [], []\n",
        "    for i in range(len(values)-WINDOW):\n",
        "        X_seq.append(values[i:i+WINDOW])\n",
        "        y.append(df['consumption'].iloc[i+WINDOW])\n",
        "    X_seq = np.array(X_seq)\n",
        "    y = np.array(y).reshape(-1,1)\n",
        "    dev_ids = df['device_id'].values\n",
        "    dev_ids_seq = []\n",
        "    for i in range(len(dev_ids)-WINDOW):\n",
        "        dev_ids_seq.append(dev_ids[i])\n",
        "    return X_seq, np.array(dev_ids_seq), y\n",
        "\n",
        "X, dev_ids, y = make_sequences(full)\n",
        "num_devices = int(dev_ids.max()) + 1\n",
        "X.shape, dev_ids.shape, y.shape, num_devices\n"
      ]
    },
    {
      "cell_type": "code",
      "execution_count": 24,
      "metadata": {},
      "outputs": [
        {
          "name": "stderr",
          "output_type": "stream",
          "text": [
            "WARNING:absl:At this time, the v2.11+ optimizer `tf.keras.optimizers.Adam` runs slowly on M1/M2 Macs, please use the legacy Keras optimizer instead, located at `tf.keras.optimizers.legacy.Adam`.\n"
          ]
        },
        {
          "name": "stdout",
          "output_type": "stream",
          "text": [
            "Epoch 1/40\n"
          ]
        },
        {
          "name": "stderr",
          "output_type": "stream",
          "text": [
            "2025-08-10 20:48:43.608948: E tensorflow/core/grappler/optimizers/meta_optimizer.cc:961] model_pruner failed: INVALID_ARGUMENT: Graph does not contain terminal node Adam/AssignAddVariableOp_10.\n"
          ]
        },
        {
          "name": "stdout",
          "output_type": "stream",
          "text": [
            "18/18 [==============================] - 2s 52ms/step - loss: 0.1374 - val_loss: 0.1240 - lr: 0.0010\n",
            "Epoch 2/40\n",
            "18/18 [==============================] - 0s 18ms/step - loss: 0.1329 - val_loss: 0.1177 - lr: 0.0010\n",
            "Epoch 3/40\n",
            "18/18 [==============================] - 0s 17ms/step - loss: 0.1314 - val_loss: 0.1188 - lr: 0.0010\n",
            "Epoch 4/40\n",
            "18/18 [==============================] - 0s 19ms/step - loss: 0.1313 - val_loss: 0.1180 - lr: 0.0010\n",
            "Epoch 5/40\n",
            "18/18 [==============================] - 0s 19ms/step - loss: 0.1313 - val_loss: 0.1197 - lr: 0.0010\n",
            "Epoch 6/40\n",
            "18/18 [==============================] - 0s 20ms/step - loss: 0.1301 - val_loss: 0.1198 - lr: 0.0010\n",
            "Epoch 7/40\n",
            "18/18 [==============================] - 0s 20ms/step - loss: 0.1295 - val_loss: 0.1181 - lr: 5.0000e-04\n",
            "Epoch 8/40\n",
            "18/18 [==============================] - 0s 19ms/step - loss: 0.1296 - val_loss: 0.1184 - lr: 5.0000e-04\n",
            "Epoch 9/40\n",
            "18/18 [==============================] - 0s 20ms/step - loss: 0.1295 - val_loss: 0.1185 - lr: 5.0000e-04\n",
            "Epoch 10/40\n",
            "18/18 [==============================] - 0s 20ms/step - loss: 0.1295 - val_loss: 0.1180 - lr: 5.0000e-04\n",
            "18/18 [==============================] - 1s 14ms/step\n"
          ]
        },
        {
          "data": {
            "text/plain": [
              "0.36618270943130404"
            ]
          },
          "execution_count": 24,
          "metadata": {},
          "output_type": "execute_result"
        }
      ],
      "source": [
        "# Train/validation split by time\n",
        "split = int(len(X)*0.8)\n",
        "X_train, X_val = X[:split], X[split:]\n",
        "dev_train, dev_val = dev_ids[:split], dev_ids[split:]\n",
        "y_train, y_val = y[:split], y[split:]\n",
        "\n",
        "# Scale input features (per-feature) and target\n",
        "from sklearn.preprocessing import StandardScaler\n",
        "x_scaler = StandardScaler()\n",
        "# reshape to 2D for fitting: (N, WINDOW*5)\n",
        "X_train_2d = X_train.reshape(len(X_train), -1)\n",
        "X_val_2d = X_val.reshape(len(X_val), -1)\n",
        "X_train_s = x_scaler.fit_transform(X_train_2d).reshape(X_train.shape)\n",
        "X_val_s = x_scaler.transform(X_val_2d).reshape(X_val.shape)\n",
        "\n",
        "y_scaler = StandardScaler()\n",
        "y_scaler.fit(y_train)\n",
        "y_train_s = y_scaler.transform(y_train)\n",
        "y_val_s = y_scaler.transform(y_val)\n",
        "\n",
        "# Model with device embedding and mild regularization\n",
        "inp_seq = keras.layers.Input(shape=(WINDOW, 5))\n",
        "inp_dev = keras.layers.Input(shape=(), dtype='int32')\n",
        "emb = keras.layers.Embedding(input_dim=num_devices+1, output_dim=8, mask_zero=False)(inp_dev)\n",
        "emb_r = keras.layers.RepeatVector(WINDOW)(emb)\n",
        "x = keras.layers.Concatenate(axis=-1)([inp_seq, emb_r])\n",
        "x = keras.layers.GRU(64, return_sequences=False, dropout=0.1)(x)\n",
        "x = keras.layers.Dense(32, activation='relu', kernel_regularizer=keras.regularizers.l2(1e-4))(x)\n",
        "out = keras.layers.Dense(1)(x)\n",
        "model = keras.Model([inp_seq, inp_dev], out)\n",
        "model.compile(optimizer=keras.optimizers.Adam(1e-3), loss=keras.losses.Huber())\n",
        "\n",
        "callbacks = [\n",
        "    keras.callbacks.EarlyStopping(patience=8, restore_best_weights=True),\n",
        "    keras.callbacks.ReduceLROnPlateau(factor=0.5, patience=4)\n",
        "]\n",
        "\n",
        "history = model.fit([X_train_s, dev_train], y_train_s,\n",
        "                    validation_data=([X_val_s, dev_val], y_val_s),\n",
        "                    epochs=40, batch_size=128, verbose=1, callbacks=callbacks)\n",
        "\n",
        "# Eval RMSE over val\n",
        "y_val_hat = y_scaler.inverse_transform(model.predict([X_val_s, dev_val]))\n",
        "rmse = float(np.sqrt(np.mean((y_val_hat - y_val)**2)))\n",
        "rmse\n"
      ]
    },
    {
      "cell_type": "code",
      "execution_count": 29,
      "metadata": {},
      "outputs": [
        {
          "data": {
            "text/plain": [
              "2"
            ]
          },
          "execution_count": 29,
          "metadata": {},
          "output_type": "execute_result"
        }
      ],
      "source": [
        "# Store training metrics and a compact test plot payload into SQLite\n",
        "loss_hist = [float(x) for x in history.history['loss']]\n",
        "val_loss_hist = [float(x) for x in history.history['val_loss']]\n",
        "rmse_hist = [None]*(len(loss_hist)-1) + [rmse]\n",
        "\n",
        "# Compact test plot payload: last 400 points of y and yhat\n",
        "N = min(400, len(y_val))\n",
        "plot_payload = {\n",
        "  'y_true': [float(v) for v in y_val[-N:].ravel().tolist()],\n",
        "  'y_pred': [float(v) for v in y_val_hat[-N:].ravel().tolist()],\n",
        "}\n",
        "\n",
        "with sqlite3.connect(DB_PATH) as conn:\n",
        "    cur = conn.execute(\"INSERT INTO models(created_at, artifact_dir, notes) VALUES(?,?,?)\",\n",
        "                      (datetime.utcnow().strftime('%Y-%m-%d %H:%M:%S'), version_dir, 'global_gru_with_device_emb'))\n",
        "    model_id = int(cur.lastrowid)\n",
        "    conn.execute(\"INSERT OR REPLACE INTO model_results(model_id, loss_history, rmse_history, test_plot) VALUES(?,?,?,?)\",\n",
        "                 (model_id, json.dumps({'train': loss_hist, 'val': val_loss_hist}), json.dumps(rmse_hist), json.dumps(plot_payload)))\n",
        "model_id\n"
      ]
    },
    {
      "cell_type": "code",
      "execution_count": 30,
      "metadata": {},
      "outputs": [
        {
          "data": {
            "text/plain": [
              "[0.17372801597539453,\n",
              " 0.1692831431014454,\n",
              " 0.17008397796698274,\n",
              " 0.16946951646435332,\n",
              " 0.17070286463145143,\n",
              " 0.17079202261145157,\n",
              " 0.1695666945868818,\n",
              " 0.16977331728224276,\n",
              " 0.16987094636760888,\n",
              " 0.16948614573462525]"
            ]
          },
          "execution_count": 30,
          "metadata": {},
          "output_type": "execute_result"
        }
      ],
      "source": [
        "# Compute per-epoch RMSE in kWh from validation loss and update DB record\n",
        "import numpy as np, sqlite3, json\n",
        "\n",
        "val_loss = history.history.get('val_loss', [])\n",
        "rmse_per_epoch = [float(abs(scaler.scale_[0]) * np.sqrt(float(v))) for v in val_loss]\n",
        "rmse_per_epoch\n"
      ]
    },
    {
      "cell_type": "code",
      "execution_count": 31,
      "metadata": {},
      "outputs": [
        {
          "data": {
            "text/html": [
              "\n",
              "<div style='display:grid;grid-template-columns:repeat(3,1fr);gap:12px;'>\n",
              "  <div><b>Final Val Loss</b><div>0.1180</div></div>\n",
              "  <div><b>Final Val RMSE (kWh)</b><div>0.1695</div></div>\n",
              "  <div><b>nRMSE</b><div>16.05%</div></div>\n",
              "  <div><b>Status</b><div style='color:#f85149'>Needs Improvement</div></div>\n",
              "</div>\n"
            ],
            "text/plain": [
              "<IPython.core.display.HTML object>"
            ]
          },
          "metadata": {},
          "output_type": "display_data"
        },
        {
          "data": {
            "application/vnd.plotly.v1+json": {
              "config": {
                "plotlyServerURL": "https://plot.ly"
              },
              "data": [
                {
                  "mode": "lines",
                  "name": "Train Loss",
                  "type": "scatter",
                  "x": [
                    1,
                    2,
                    3,
                    4,
                    5,
                    6,
                    7,
                    8,
                    9,
                    10
                  ],
                  "y": [
                    0.13743776082992554,
                    0.13286082446575165,
                    0.13138718903064728,
                    0.13126783072948456,
                    0.13132919371128082,
                    0.1301027536392212,
                    0.12954002618789673,
                    0.1296379715204239,
                    0.12951359152793884,
                    0.12947677075862885
                  ]
                },
                {
                  "mode": "lines",
                  "name": "Val Loss",
                  "type": "scatter",
                  "x": [
                    1,
                    2,
                    3,
                    4,
                    5,
                    6,
                    7,
                    8,
                    9,
                    10
                  ],
                  "y": [
                    0.12395241856575012,
                    0.11769085377454758,
                    0.11880701780319214,
                    0.11795014142990112,
                    0.11967319995164871,
                    0.11979824304580688,
                    0.11808545142412186,
                    0.11837340891361237,
                    0.11850959062576294,
                    0.11797329038381577
                  ]
                }
              ],
              "layout": {
                "template": {
                  "data": {
                    "bar": [
                      {
                        "error_x": {
                          "color": "#2a3f5f"
                        },
                        "error_y": {
                          "color": "#2a3f5f"
                        },
                        "marker": {
                          "line": {
                            "color": "#E5ECF6",
                            "width": 0.5
                          },
                          "pattern": {
                            "fillmode": "overlay",
                            "size": 10,
                            "solidity": 0.2
                          }
                        },
                        "type": "bar"
                      }
                    ],
                    "barpolar": [
                      {
                        "marker": {
                          "line": {
                            "color": "#E5ECF6",
                            "width": 0.5
                          },
                          "pattern": {
                            "fillmode": "overlay",
                            "size": 10,
                            "solidity": 0.2
                          }
                        },
                        "type": "barpolar"
                      }
                    ],
                    "carpet": [
                      {
                        "aaxis": {
                          "endlinecolor": "#2a3f5f",
                          "gridcolor": "white",
                          "linecolor": "white",
                          "minorgridcolor": "white",
                          "startlinecolor": "#2a3f5f"
                        },
                        "baxis": {
                          "endlinecolor": "#2a3f5f",
                          "gridcolor": "white",
                          "linecolor": "white",
                          "minorgridcolor": "white",
                          "startlinecolor": "#2a3f5f"
                        },
                        "type": "carpet"
                      }
                    ],
                    "choropleth": [
                      {
                        "colorbar": {
                          "outlinewidth": 0,
                          "ticks": ""
                        },
                        "type": "choropleth"
                      }
                    ],
                    "contour": [
                      {
                        "colorbar": {
                          "outlinewidth": 0,
                          "ticks": ""
                        },
                        "colorscale": [
                          [
                            0,
                            "#0d0887"
                          ],
                          [
                            0.1111111111111111,
                            "#46039f"
                          ],
                          [
                            0.2222222222222222,
                            "#7201a8"
                          ],
                          [
                            0.3333333333333333,
                            "#9c179e"
                          ],
                          [
                            0.4444444444444444,
                            "#bd3786"
                          ],
                          [
                            0.5555555555555556,
                            "#d8576b"
                          ],
                          [
                            0.6666666666666666,
                            "#ed7953"
                          ],
                          [
                            0.7777777777777778,
                            "#fb9f3a"
                          ],
                          [
                            0.8888888888888888,
                            "#fdca26"
                          ],
                          [
                            1,
                            "#f0f921"
                          ]
                        ],
                        "type": "contour"
                      }
                    ],
                    "contourcarpet": [
                      {
                        "colorbar": {
                          "outlinewidth": 0,
                          "ticks": ""
                        },
                        "type": "contourcarpet"
                      }
                    ],
                    "heatmap": [
                      {
                        "colorbar": {
                          "outlinewidth": 0,
                          "ticks": ""
                        },
                        "colorscale": [
                          [
                            0,
                            "#0d0887"
                          ],
                          [
                            0.1111111111111111,
                            "#46039f"
                          ],
                          [
                            0.2222222222222222,
                            "#7201a8"
                          ],
                          [
                            0.3333333333333333,
                            "#9c179e"
                          ],
                          [
                            0.4444444444444444,
                            "#bd3786"
                          ],
                          [
                            0.5555555555555556,
                            "#d8576b"
                          ],
                          [
                            0.6666666666666666,
                            "#ed7953"
                          ],
                          [
                            0.7777777777777778,
                            "#fb9f3a"
                          ],
                          [
                            0.8888888888888888,
                            "#fdca26"
                          ],
                          [
                            1,
                            "#f0f921"
                          ]
                        ],
                        "type": "heatmap"
                      }
                    ],
                    "heatmapgl": [
                      {
                        "colorbar": {
                          "outlinewidth": 0,
                          "ticks": ""
                        },
                        "colorscale": [
                          [
                            0,
                            "#0d0887"
                          ],
                          [
                            0.1111111111111111,
                            "#46039f"
                          ],
                          [
                            0.2222222222222222,
                            "#7201a8"
                          ],
                          [
                            0.3333333333333333,
                            "#9c179e"
                          ],
                          [
                            0.4444444444444444,
                            "#bd3786"
                          ],
                          [
                            0.5555555555555556,
                            "#d8576b"
                          ],
                          [
                            0.6666666666666666,
                            "#ed7953"
                          ],
                          [
                            0.7777777777777778,
                            "#fb9f3a"
                          ],
                          [
                            0.8888888888888888,
                            "#fdca26"
                          ],
                          [
                            1,
                            "#f0f921"
                          ]
                        ],
                        "type": "heatmapgl"
                      }
                    ],
                    "histogram": [
                      {
                        "marker": {
                          "pattern": {
                            "fillmode": "overlay",
                            "size": 10,
                            "solidity": 0.2
                          }
                        },
                        "type": "histogram"
                      }
                    ],
                    "histogram2d": [
                      {
                        "colorbar": {
                          "outlinewidth": 0,
                          "ticks": ""
                        },
                        "colorscale": [
                          [
                            0,
                            "#0d0887"
                          ],
                          [
                            0.1111111111111111,
                            "#46039f"
                          ],
                          [
                            0.2222222222222222,
                            "#7201a8"
                          ],
                          [
                            0.3333333333333333,
                            "#9c179e"
                          ],
                          [
                            0.4444444444444444,
                            "#bd3786"
                          ],
                          [
                            0.5555555555555556,
                            "#d8576b"
                          ],
                          [
                            0.6666666666666666,
                            "#ed7953"
                          ],
                          [
                            0.7777777777777778,
                            "#fb9f3a"
                          ],
                          [
                            0.8888888888888888,
                            "#fdca26"
                          ],
                          [
                            1,
                            "#f0f921"
                          ]
                        ],
                        "type": "histogram2d"
                      }
                    ],
                    "histogram2dcontour": [
                      {
                        "colorbar": {
                          "outlinewidth": 0,
                          "ticks": ""
                        },
                        "colorscale": [
                          [
                            0,
                            "#0d0887"
                          ],
                          [
                            0.1111111111111111,
                            "#46039f"
                          ],
                          [
                            0.2222222222222222,
                            "#7201a8"
                          ],
                          [
                            0.3333333333333333,
                            "#9c179e"
                          ],
                          [
                            0.4444444444444444,
                            "#bd3786"
                          ],
                          [
                            0.5555555555555556,
                            "#d8576b"
                          ],
                          [
                            0.6666666666666666,
                            "#ed7953"
                          ],
                          [
                            0.7777777777777778,
                            "#fb9f3a"
                          ],
                          [
                            0.8888888888888888,
                            "#fdca26"
                          ],
                          [
                            1,
                            "#f0f921"
                          ]
                        ],
                        "type": "histogram2dcontour"
                      }
                    ],
                    "mesh3d": [
                      {
                        "colorbar": {
                          "outlinewidth": 0,
                          "ticks": ""
                        },
                        "type": "mesh3d"
                      }
                    ],
                    "parcoords": [
                      {
                        "line": {
                          "colorbar": {
                            "outlinewidth": 0,
                            "ticks": ""
                          }
                        },
                        "type": "parcoords"
                      }
                    ],
                    "pie": [
                      {
                        "automargin": true,
                        "type": "pie"
                      }
                    ],
                    "scatter": [
                      {
                        "fillpattern": {
                          "fillmode": "overlay",
                          "size": 10,
                          "solidity": 0.2
                        },
                        "type": "scatter"
                      }
                    ],
                    "scatter3d": [
                      {
                        "line": {
                          "colorbar": {
                            "outlinewidth": 0,
                            "ticks": ""
                          }
                        },
                        "marker": {
                          "colorbar": {
                            "outlinewidth": 0,
                            "ticks": ""
                          }
                        },
                        "type": "scatter3d"
                      }
                    ],
                    "scattercarpet": [
                      {
                        "marker": {
                          "colorbar": {
                            "outlinewidth": 0,
                            "ticks": ""
                          }
                        },
                        "type": "scattercarpet"
                      }
                    ],
                    "scattergeo": [
                      {
                        "marker": {
                          "colorbar": {
                            "outlinewidth": 0,
                            "ticks": ""
                          }
                        },
                        "type": "scattergeo"
                      }
                    ],
                    "scattergl": [
                      {
                        "marker": {
                          "colorbar": {
                            "outlinewidth": 0,
                            "ticks": ""
                          }
                        },
                        "type": "scattergl"
                      }
                    ],
                    "scattermapbox": [
                      {
                        "marker": {
                          "colorbar": {
                            "outlinewidth": 0,
                            "ticks": ""
                          }
                        },
                        "type": "scattermapbox"
                      }
                    ],
                    "scatterpolar": [
                      {
                        "marker": {
                          "colorbar": {
                            "outlinewidth": 0,
                            "ticks": ""
                          }
                        },
                        "type": "scatterpolar"
                      }
                    ],
                    "scatterpolargl": [
                      {
                        "marker": {
                          "colorbar": {
                            "outlinewidth": 0,
                            "ticks": ""
                          }
                        },
                        "type": "scatterpolargl"
                      }
                    ],
                    "scatterternary": [
                      {
                        "marker": {
                          "colorbar": {
                            "outlinewidth": 0,
                            "ticks": ""
                          }
                        },
                        "type": "scatterternary"
                      }
                    ],
                    "surface": [
                      {
                        "colorbar": {
                          "outlinewidth": 0,
                          "ticks": ""
                        },
                        "colorscale": [
                          [
                            0,
                            "#0d0887"
                          ],
                          [
                            0.1111111111111111,
                            "#46039f"
                          ],
                          [
                            0.2222222222222222,
                            "#7201a8"
                          ],
                          [
                            0.3333333333333333,
                            "#9c179e"
                          ],
                          [
                            0.4444444444444444,
                            "#bd3786"
                          ],
                          [
                            0.5555555555555556,
                            "#d8576b"
                          ],
                          [
                            0.6666666666666666,
                            "#ed7953"
                          ],
                          [
                            0.7777777777777778,
                            "#fb9f3a"
                          ],
                          [
                            0.8888888888888888,
                            "#fdca26"
                          ],
                          [
                            1,
                            "#f0f921"
                          ]
                        ],
                        "type": "surface"
                      }
                    ],
                    "table": [
                      {
                        "cells": {
                          "fill": {
                            "color": "#EBF0F8"
                          },
                          "line": {
                            "color": "white"
                          }
                        },
                        "header": {
                          "fill": {
                            "color": "#C8D4E3"
                          },
                          "line": {
                            "color": "white"
                          }
                        },
                        "type": "table"
                      }
                    ]
                  },
                  "layout": {
                    "annotationdefaults": {
                      "arrowcolor": "#2a3f5f",
                      "arrowhead": 0,
                      "arrowwidth": 1
                    },
                    "autotypenumbers": "strict",
                    "coloraxis": {
                      "colorbar": {
                        "outlinewidth": 0,
                        "ticks": ""
                      }
                    },
                    "colorscale": {
                      "diverging": [
                        [
                          0,
                          "#8e0152"
                        ],
                        [
                          0.1,
                          "#c51b7d"
                        ],
                        [
                          0.2,
                          "#de77ae"
                        ],
                        [
                          0.3,
                          "#f1b6da"
                        ],
                        [
                          0.4,
                          "#fde0ef"
                        ],
                        [
                          0.5,
                          "#f7f7f7"
                        ],
                        [
                          0.6,
                          "#e6f5d0"
                        ],
                        [
                          0.7,
                          "#b8e186"
                        ],
                        [
                          0.8,
                          "#7fbc41"
                        ],
                        [
                          0.9,
                          "#4d9221"
                        ],
                        [
                          1,
                          "#276419"
                        ]
                      ],
                      "sequential": [
                        [
                          0,
                          "#0d0887"
                        ],
                        [
                          0.1111111111111111,
                          "#46039f"
                        ],
                        [
                          0.2222222222222222,
                          "#7201a8"
                        ],
                        [
                          0.3333333333333333,
                          "#9c179e"
                        ],
                        [
                          0.4444444444444444,
                          "#bd3786"
                        ],
                        [
                          0.5555555555555556,
                          "#d8576b"
                        ],
                        [
                          0.6666666666666666,
                          "#ed7953"
                        ],
                        [
                          0.7777777777777778,
                          "#fb9f3a"
                        ],
                        [
                          0.8888888888888888,
                          "#fdca26"
                        ],
                        [
                          1,
                          "#f0f921"
                        ]
                      ],
                      "sequentialminus": [
                        [
                          0,
                          "#0d0887"
                        ],
                        [
                          0.1111111111111111,
                          "#46039f"
                        ],
                        [
                          0.2222222222222222,
                          "#7201a8"
                        ],
                        [
                          0.3333333333333333,
                          "#9c179e"
                        ],
                        [
                          0.4444444444444444,
                          "#bd3786"
                        ],
                        [
                          0.5555555555555556,
                          "#d8576b"
                        ],
                        [
                          0.6666666666666666,
                          "#ed7953"
                        ],
                        [
                          0.7777777777777778,
                          "#fb9f3a"
                        ],
                        [
                          0.8888888888888888,
                          "#fdca26"
                        ],
                        [
                          1,
                          "#f0f921"
                        ]
                      ]
                    },
                    "colorway": [
                      "#636efa",
                      "#EF553B",
                      "#00cc96",
                      "#ab63fa",
                      "#FFA15A",
                      "#19d3f3",
                      "#FF6692",
                      "#B6E880",
                      "#FF97FF",
                      "#FECB52"
                    ],
                    "font": {
                      "color": "#2a3f5f"
                    },
                    "geo": {
                      "bgcolor": "white",
                      "lakecolor": "white",
                      "landcolor": "#E5ECF6",
                      "showlakes": true,
                      "showland": true,
                      "subunitcolor": "white"
                    },
                    "hoverlabel": {
                      "align": "left"
                    },
                    "hovermode": "closest",
                    "mapbox": {
                      "style": "light"
                    },
                    "paper_bgcolor": "white",
                    "plot_bgcolor": "#E5ECF6",
                    "polar": {
                      "angularaxis": {
                        "gridcolor": "white",
                        "linecolor": "white",
                        "ticks": ""
                      },
                      "bgcolor": "#E5ECF6",
                      "radialaxis": {
                        "gridcolor": "white",
                        "linecolor": "white",
                        "ticks": ""
                      }
                    },
                    "scene": {
                      "xaxis": {
                        "backgroundcolor": "#E5ECF6",
                        "gridcolor": "white",
                        "gridwidth": 2,
                        "linecolor": "white",
                        "showbackground": true,
                        "ticks": "",
                        "zerolinecolor": "white"
                      },
                      "yaxis": {
                        "backgroundcolor": "#E5ECF6",
                        "gridcolor": "white",
                        "gridwidth": 2,
                        "linecolor": "white",
                        "showbackground": true,
                        "ticks": "",
                        "zerolinecolor": "white"
                      },
                      "zaxis": {
                        "backgroundcolor": "#E5ECF6",
                        "gridcolor": "white",
                        "gridwidth": 2,
                        "linecolor": "white",
                        "showbackground": true,
                        "ticks": "",
                        "zerolinecolor": "white"
                      }
                    },
                    "shapedefaults": {
                      "line": {
                        "color": "#2a3f5f"
                      }
                    },
                    "ternary": {
                      "aaxis": {
                        "gridcolor": "white",
                        "linecolor": "white",
                        "ticks": ""
                      },
                      "baxis": {
                        "gridcolor": "white",
                        "linecolor": "white",
                        "ticks": ""
                      },
                      "bgcolor": "#E5ECF6",
                      "caxis": {
                        "gridcolor": "white",
                        "linecolor": "white",
                        "ticks": ""
                      }
                    },
                    "title": {
                      "x": 0.05
                    },
                    "xaxis": {
                      "automargin": true,
                      "gridcolor": "white",
                      "linecolor": "white",
                      "ticks": "",
                      "title": {
                        "standoff": 15
                      },
                      "zerolinecolor": "white",
                      "zerolinewidth": 2
                    },
                    "yaxis": {
                      "automargin": true,
                      "gridcolor": "white",
                      "linecolor": "white",
                      "ticks": "",
                      "title": {
                        "standoff": 15
                      },
                      "zerolinecolor": "white",
                      "zerolinewidth": 2
                    }
                  }
                },
                "title": {
                  "text": "Loss Curves"
                },
                "xaxis": {
                  "title": {
                    "text": "Epoch"
                  }
                },
                "yaxis": {
                  "title": {
                    "text": "MSE"
                  }
                }
              }
            }
          },
          "metadata": {},
          "output_type": "display_data"
        },
        {
          "data": {
            "application/vnd.plotly.v1+json": {
              "config": {
                "plotlyServerURL": "https://plot.ly"
              },
              "data": [
                {
                  "mode": "lines+markers",
                  "name": "Val RMSE (kWh)",
                  "type": "scatter",
                  "x": [
                    1,
                    2,
                    3,
                    4,
                    5,
                    6,
                    7,
                    8,
                    9,
                    10
                  ],
                  "y": [
                    0.17372801597539453,
                    0.1692831431014454,
                    0.17008397796698274,
                    0.16946951646435332,
                    0.17070286463145143,
                    0.17079202261145157,
                    0.1695666945868818,
                    0.16977331728224276,
                    0.16987094636760888,
                    0.16948614573462525
                  ]
                }
              ],
              "layout": {
                "template": {
                  "data": {
                    "bar": [
                      {
                        "error_x": {
                          "color": "#2a3f5f"
                        },
                        "error_y": {
                          "color": "#2a3f5f"
                        },
                        "marker": {
                          "line": {
                            "color": "#E5ECF6",
                            "width": 0.5
                          },
                          "pattern": {
                            "fillmode": "overlay",
                            "size": 10,
                            "solidity": 0.2
                          }
                        },
                        "type": "bar"
                      }
                    ],
                    "barpolar": [
                      {
                        "marker": {
                          "line": {
                            "color": "#E5ECF6",
                            "width": 0.5
                          },
                          "pattern": {
                            "fillmode": "overlay",
                            "size": 10,
                            "solidity": 0.2
                          }
                        },
                        "type": "barpolar"
                      }
                    ],
                    "carpet": [
                      {
                        "aaxis": {
                          "endlinecolor": "#2a3f5f",
                          "gridcolor": "white",
                          "linecolor": "white",
                          "minorgridcolor": "white",
                          "startlinecolor": "#2a3f5f"
                        },
                        "baxis": {
                          "endlinecolor": "#2a3f5f",
                          "gridcolor": "white",
                          "linecolor": "white",
                          "minorgridcolor": "white",
                          "startlinecolor": "#2a3f5f"
                        },
                        "type": "carpet"
                      }
                    ],
                    "choropleth": [
                      {
                        "colorbar": {
                          "outlinewidth": 0,
                          "ticks": ""
                        },
                        "type": "choropleth"
                      }
                    ],
                    "contour": [
                      {
                        "colorbar": {
                          "outlinewidth": 0,
                          "ticks": ""
                        },
                        "colorscale": [
                          [
                            0,
                            "#0d0887"
                          ],
                          [
                            0.1111111111111111,
                            "#46039f"
                          ],
                          [
                            0.2222222222222222,
                            "#7201a8"
                          ],
                          [
                            0.3333333333333333,
                            "#9c179e"
                          ],
                          [
                            0.4444444444444444,
                            "#bd3786"
                          ],
                          [
                            0.5555555555555556,
                            "#d8576b"
                          ],
                          [
                            0.6666666666666666,
                            "#ed7953"
                          ],
                          [
                            0.7777777777777778,
                            "#fb9f3a"
                          ],
                          [
                            0.8888888888888888,
                            "#fdca26"
                          ],
                          [
                            1,
                            "#f0f921"
                          ]
                        ],
                        "type": "contour"
                      }
                    ],
                    "contourcarpet": [
                      {
                        "colorbar": {
                          "outlinewidth": 0,
                          "ticks": ""
                        },
                        "type": "contourcarpet"
                      }
                    ],
                    "heatmap": [
                      {
                        "colorbar": {
                          "outlinewidth": 0,
                          "ticks": ""
                        },
                        "colorscale": [
                          [
                            0,
                            "#0d0887"
                          ],
                          [
                            0.1111111111111111,
                            "#46039f"
                          ],
                          [
                            0.2222222222222222,
                            "#7201a8"
                          ],
                          [
                            0.3333333333333333,
                            "#9c179e"
                          ],
                          [
                            0.4444444444444444,
                            "#bd3786"
                          ],
                          [
                            0.5555555555555556,
                            "#d8576b"
                          ],
                          [
                            0.6666666666666666,
                            "#ed7953"
                          ],
                          [
                            0.7777777777777778,
                            "#fb9f3a"
                          ],
                          [
                            0.8888888888888888,
                            "#fdca26"
                          ],
                          [
                            1,
                            "#f0f921"
                          ]
                        ],
                        "type": "heatmap"
                      }
                    ],
                    "heatmapgl": [
                      {
                        "colorbar": {
                          "outlinewidth": 0,
                          "ticks": ""
                        },
                        "colorscale": [
                          [
                            0,
                            "#0d0887"
                          ],
                          [
                            0.1111111111111111,
                            "#46039f"
                          ],
                          [
                            0.2222222222222222,
                            "#7201a8"
                          ],
                          [
                            0.3333333333333333,
                            "#9c179e"
                          ],
                          [
                            0.4444444444444444,
                            "#bd3786"
                          ],
                          [
                            0.5555555555555556,
                            "#d8576b"
                          ],
                          [
                            0.6666666666666666,
                            "#ed7953"
                          ],
                          [
                            0.7777777777777778,
                            "#fb9f3a"
                          ],
                          [
                            0.8888888888888888,
                            "#fdca26"
                          ],
                          [
                            1,
                            "#f0f921"
                          ]
                        ],
                        "type": "heatmapgl"
                      }
                    ],
                    "histogram": [
                      {
                        "marker": {
                          "pattern": {
                            "fillmode": "overlay",
                            "size": 10,
                            "solidity": 0.2
                          }
                        },
                        "type": "histogram"
                      }
                    ],
                    "histogram2d": [
                      {
                        "colorbar": {
                          "outlinewidth": 0,
                          "ticks": ""
                        },
                        "colorscale": [
                          [
                            0,
                            "#0d0887"
                          ],
                          [
                            0.1111111111111111,
                            "#46039f"
                          ],
                          [
                            0.2222222222222222,
                            "#7201a8"
                          ],
                          [
                            0.3333333333333333,
                            "#9c179e"
                          ],
                          [
                            0.4444444444444444,
                            "#bd3786"
                          ],
                          [
                            0.5555555555555556,
                            "#d8576b"
                          ],
                          [
                            0.6666666666666666,
                            "#ed7953"
                          ],
                          [
                            0.7777777777777778,
                            "#fb9f3a"
                          ],
                          [
                            0.8888888888888888,
                            "#fdca26"
                          ],
                          [
                            1,
                            "#f0f921"
                          ]
                        ],
                        "type": "histogram2d"
                      }
                    ],
                    "histogram2dcontour": [
                      {
                        "colorbar": {
                          "outlinewidth": 0,
                          "ticks": ""
                        },
                        "colorscale": [
                          [
                            0,
                            "#0d0887"
                          ],
                          [
                            0.1111111111111111,
                            "#46039f"
                          ],
                          [
                            0.2222222222222222,
                            "#7201a8"
                          ],
                          [
                            0.3333333333333333,
                            "#9c179e"
                          ],
                          [
                            0.4444444444444444,
                            "#bd3786"
                          ],
                          [
                            0.5555555555555556,
                            "#d8576b"
                          ],
                          [
                            0.6666666666666666,
                            "#ed7953"
                          ],
                          [
                            0.7777777777777778,
                            "#fb9f3a"
                          ],
                          [
                            0.8888888888888888,
                            "#fdca26"
                          ],
                          [
                            1,
                            "#f0f921"
                          ]
                        ],
                        "type": "histogram2dcontour"
                      }
                    ],
                    "mesh3d": [
                      {
                        "colorbar": {
                          "outlinewidth": 0,
                          "ticks": ""
                        },
                        "type": "mesh3d"
                      }
                    ],
                    "parcoords": [
                      {
                        "line": {
                          "colorbar": {
                            "outlinewidth": 0,
                            "ticks": ""
                          }
                        },
                        "type": "parcoords"
                      }
                    ],
                    "pie": [
                      {
                        "automargin": true,
                        "type": "pie"
                      }
                    ],
                    "scatter": [
                      {
                        "fillpattern": {
                          "fillmode": "overlay",
                          "size": 10,
                          "solidity": 0.2
                        },
                        "type": "scatter"
                      }
                    ],
                    "scatter3d": [
                      {
                        "line": {
                          "colorbar": {
                            "outlinewidth": 0,
                            "ticks": ""
                          }
                        },
                        "marker": {
                          "colorbar": {
                            "outlinewidth": 0,
                            "ticks": ""
                          }
                        },
                        "type": "scatter3d"
                      }
                    ],
                    "scattercarpet": [
                      {
                        "marker": {
                          "colorbar": {
                            "outlinewidth": 0,
                            "ticks": ""
                          }
                        },
                        "type": "scattercarpet"
                      }
                    ],
                    "scattergeo": [
                      {
                        "marker": {
                          "colorbar": {
                            "outlinewidth": 0,
                            "ticks": ""
                          }
                        },
                        "type": "scattergeo"
                      }
                    ],
                    "scattergl": [
                      {
                        "marker": {
                          "colorbar": {
                            "outlinewidth": 0,
                            "ticks": ""
                          }
                        },
                        "type": "scattergl"
                      }
                    ],
                    "scattermapbox": [
                      {
                        "marker": {
                          "colorbar": {
                            "outlinewidth": 0,
                            "ticks": ""
                          }
                        },
                        "type": "scattermapbox"
                      }
                    ],
                    "scatterpolar": [
                      {
                        "marker": {
                          "colorbar": {
                            "outlinewidth": 0,
                            "ticks": ""
                          }
                        },
                        "type": "scatterpolar"
                      }
                    ],
                    "scatterpolargl": [
                      {
                        "marker": {
                          "colorbar": {
                            "outlinewidth": 0,
                            "ticks": ""
                          }
                        },
                        "type": "scatterpolargl"
                      }
                    ],
                    "scatterternary": [
                      {
                        "marker": {
                          "colorbar": {
                            "outlinewidth": 0,
                            "ticks": ""
                          }
                        },
                        "type": "scatterternary"
                      }
                    ],
                    "surface": [
                      {
                        "colorbar": {
                          "outlinewidth": 0,
                          "ticks": ""
                        },
                        "colorscale": [
                          [
                            0,
                            "#0d0887"
                          ],
                          [
                            0.1111111111111111,
                            "#46039f"
                          ],
                          [
                            0.2222222222222222,
                            "#7201a8"
                          ],
                          [
                            0.3333333333333333,
                            "#9c179e"
                          ],
                          [
                            0.4444444444444444,
                            "#bd3786"
                          ],
                          [
                            0.5555555555555556,
                            "#d8576b"
                          ],
                          [
                            0.6666666666666666,
                            "#ed7953"
                          ],
                          [
                            0.7777777777777778,
                            "#fb9f3a"
                          ],
                          [
                            0.8888888888888888,
                            "#fdca26"
                          ],
                          [
                            1,
                            "#f0f921"
                          ]
                        ],
                        "type": "surface"
                      }
                    ],
                    "table": [
                      {
                        "cells": {
                          "fill": {
                            "color": "#EBF0F8"
                          },
                          "line": {
                            "color": "white"
                          }
                        },
                        "header": {
                          "fill": {
                            "color": "#C8D4E3"
                          },
                          "line": {
                            "color": "white"
                          }
                        },
                        "type": "table"
                      }
                    ]
                  },
                  "layout": {
                    "annotationdefaults": {
                      "arrowcolor": "#2a3f5f",
                      "arrowhead": 0,
                      "arrowwidth": 1
                    },
                    "autotypenumbers": "strict",
                    "coloraxis": {
                      "colorbar": {
                        "outlinewidth": 0,
                        "ticks": ""
                      }
                    },
                    "colorscale": {
                      "diverging": [
                        [
                          0,
                          "#8e0152"
                        ],
                        [
                          0.1,
                          "#c51b7d"
                        ],
                        [
                          0.2,
                          "#de77ae"
                        ],
                        [
                          0.3,
                          "#f1b6da"
                        ],
                        [
                          0.4,
                          "#fde0ef"
                        ],
                        [
                          0.5,
                          "#f7f7f7"
                        ],
                        [
                          0.6,
                          "#e6f5d0"
                        ],
                        [
                          0.7,
                          "#b8e186"
                        ],
                        [
                          0.8,
                          "#7fbc41"
                        ],
                        [
                          0.9,
                          "#4d9221"
                        ],
                        [
                          1,
                          "#276419"
                        ]
                      ],
                      "sequential": [
                        [
                          0,
                          "#0d0887"
                        ],
                        [
                          0.1111111111111111,
                          "#46039f"
                        ],
                        [
                          0.2222222222222222,
                          "#7201a8"
                        ],
                        [
                          0.3333333333333333,
                          "#9c179e"
                        ],
                        [
                          0.4444444444444444,
                          "#bd3786"
                        ],
                        [
                          0.5555555555555556,
                          "#d8576b"
                        ],
                        [
                          0.6666666666666666,
                          "#ed7953"
                        ],
                        [
                          0.7777777777777778,
                          "#fb9f3a"
                        ],
                        [
                          0.8888888888888888,
                          "#fdca26"
                        ],
                        [
                          1,
                          "#f0f921"
                        ]
                      ],
                      "sequentialminus": [
                        [
                          0,
                          "#0d0887"
                        ],
                        [
                          0.1111111111111111,
                          "#46039f"
                        ],
                        [
                          0.2222222222222222,
                          "#7201a8"
                        ],
                        [
                          0.3333333333333333,
                          "#9c179e"
                        ],
                        [
                          0.4444444444444444,
                          "#bd3786"
                        ],
                        [
                          0.5555555555555556,
                          "#d8576b"
                        ],
                        [
                          0.6666666666666666,
                          "#ed7953"
                        ],
                        [
                          0.7777777777777778,
                          "#fb9f3a"
                        ],
                        [
                          0.8888888888888888,
                          "#fdca26"
                        ],
                        [
                          1,
                          "#f0f921"
                        ]
                      ]
                    },
                    "colorway": [
                      "#636efa",
                      "#EF553B",
                      "#00cc96",
                      "#ab63fa",
                      "#FFA15A",
                      "#19d3f3",
                      "#FF6692",
                      "#B6E880",
                      "#FF97FF",
                      "#FECB52"
                    ],
                    "font": {
                      "color": "#2a3f5f"
                    },
                    "geo": {
                      "bgcolor": "white",
                      "lakecolor": "white",
                      "landcolor": "#E5ECF6",
                      "showlakes": true,
                      "showland": true,
                      "subunitcolor": "white"
                    },
                    "hoverlabel": {
                      "align": "left"
                    },
                    "hovermode": "closest",
                    "mapbox": {
                      "style": "light"
                    },
                    "paper_bgcolor": "white",
                    "plot_bgcolor": "#E5ECF6",
                    "polar": {
                      "angularaxis": {
                        "gridcolor": "white",
                        "linecolor": "white",
                        "ticks": ""
                      },
                      "bgcolor": "#E5ECF6",
                      "radialaxis": {
                        "gridcolor": "white",
                        "linecolor": "white",
                        "ticks": ""
                      }
                    },
                    "scene": {
                      "xaxis": {
                        "backgroundcolor": "#E5ECF6",
                        "gridcolor": "white",
                        "gridwidth": 2,
                        "linecolor": "white",
                        "showbackground": true,
                        "ticks": "",
                        "zerolinecolor": "white"
                      },
                      "yaxis": {
                        "backgroundcolor": "#E5ECF6",
                        "gridcolor": "white",
                        "gridwidth": 2,
                        "linecolor": "white",
                        "showbackground": true,
                        "ticks": "",
                        "zerolinecolor": "white"
                      },
                      "zaxis": {
                        "backgroundcolor": "#E5ECF6",
                        "gridcolor": "white",
                        "gridwidth": 2,
                        "linecolor": "white",
                        "showbackground": true,
                        "ticks": "",
                        "zerolinecolor": "white"
                      }
                    },
                    "shapedefaults": {
                      "line": {
                        "color": "#2a3f5f"
                      }
                    },
                    "ternary": {
                      "aaxis": {
                        "gridcolor": "white",
                        "linecolor": "white",
                        "ticks": ""
                      },
                      "baxis": {
                        "gridcolor": "white",
                        "linecolor": "white",
                        "ticks": ""
                      },
                      "bgcolor": "#E5ECF6",
                      "caxis": {
                        "gridcolor": "white",
                        "linecolor": "white",
                        "ticks": ""
                      }
                    },
                    "title": {
                      "x": 0.05
                    },
                    "xaxis": {
                      "automargin": true,
                      "gridcolor": "white",
                      "linecolor": "white",
                      "ticks": "",
                      "title": {
                        "standoff": 15
                      },
                      "zerolinecolor": "white",
                      "zerolinewidth": 2
                    },
                    "yaxis": {
                      "automargin": true,
                      "gridcolor": "white",
                      "linecolor": "white",
                      "ticks": "",
                      "title": {
                        "standoff": 15
                      },
                      "zerolinecolor": "white",
                      "zerolinewidth": 2
                    }
                  }
                },
                "title": {
                  "text": "Validation RMSE per Epoch"
                },
                "xaxis": {
                  "title": {
                    "text": "Epoch"
                  }
                },
                "yaxis": {
                  "title": {
                    "text": "kWh"
                  }
                }
              }
            }
          },
          "metadata": {},
          "output_type": "display_data"
        }
      ],
      "source": [
        "# Build a simple HTML summary and Plotly plots inline to validate training quality\n",
        "import plotly.graph_objects as go\n",
        "from IPython.display import display, HTML\n",
        "\n",
        "# Loss curves\n",
        "epochs = list(range(1, len(history.history['loss'])+1))\n",
        "fig_loss = go.Figure()\n",
        "fig_loss.add_trace(go.Scatter(x=epochs, y=history.history['loss'], mode='lines', name='Train Loss'))\n",
        "fig_loss.add_trace(go.Scatter(x=epochs, y=history.history['val_loss'], mode='lines', name='Val Loss'))\n",
        "fig_loss.update_layout(title='Loss Curves', xaxis_title='Epoch', yaxis_title='MSE')\n",
        "\n",
        "# RMSE curve\n",
        "fig_rmse = go.Figure()\n",
        "fig_rmse.add_trace(go.Scatter(x=epochs, y=rmse_per_epoch, mode='lines+markers', name='Val RMSE (kWh)'))\n",
        "fig_rmse.update_layout(title='Validation RMSE per Epoch', xaxis_title='Epoch', yaxis_title='kWh')\n",
        "\n",
        "# Final metrics and status heuristic\n",
        "final_val_loss = float(history.history['val_loss'][-1])\n",
        "final_rmse = float(rmse_per_epoch[-1]) if rmse_per_epoch else None\n",
        "mean_y = float(np.mean(y_val))\n",
        "nrmse = float(final_rmse/mean_y) if mean_y else None\n",
        "status_good = (final_rmse is not None) and (nrmse is not None) and (nrmse <= 0.1)\n",
        "color = '#2ea043' if status_good else '#f85149'\n",
        "\n",
        "summary_html = f\"\"\"\n",
        "<div style='display:grid;grid-template-columns:repeat(3,1fr);gap:12px;'>\n",
        "  <div><b>Final Val Loss</b><div>{final_val_loss:.4f}</div></div>\n",
        "  <div><b>Final Val RMSE (kWh)</b><div>{final_rmse:.4f}</div></div>\n",
        "  <div><b>nRMSE</b><div>{nrmse:.2%}</div></div>\n",
        "  <div><b>Status</b><div style='color:{color}'>{'Good' if status_good else 'Needs Improvement'}</div></div>\n",
        "</div>\n",
        "\"\"\"\n",
        "\n",
        "display(HTML(summary_html))\n",
        "fig_loss.show()\n",
        "fig_rmse.show()\n"
      ]
    },
    {
      "cell_type": "code",
      "execution_count": 32,
      "metadata": {},
      "outputs": [
        {
          "name": "stdout",
          "output_type": "stream",
          "text": [
            "Updated rmse_history for model_id 2\n"
          ]
        }
      ],
      "source": [
        "# Update the latest DB model record with per-epoch RMSE\n",
        "with sqlite3.connect(DB_PATH) as conn:\n",
        "    # fetch latest model id\n",
        "    cur = conn.execute(\"SELECT id FROM models ORDER BY id DESC LIMIT 1\")\n",
        "    row = cur.fetchone()\n",
        "    if row:\n",
        "        mid = int(row[0])\n",
        "        conn.execute(\n",
        "            \"UPDATE model_results SET rmse_history=? WHERE model_id=?\",\n",
        "            (json.dumps(rmse_per_epoch), mid)\n",
        "        )\n",
        "        print('Updated rmse_history for model_id', mid)\n",
        "    else:\n",
        "        print('No model record found to update')\n"
      ]
    },
    {
      "cell_type": "code",
      "execution_count": 25,
      "metadata": {},
      "outputs": [
        {
          "data": {
            "text/plain": [
              "'/Users/andressalguero/Documents/peakguard_api/artifacts/versions/20250811_004905'"
            ]
          },
          "execution_count": 25,
          "metadata": {},
          "output_type": "execute_result"
        }
      ],
      "source": [
        "# Save artifacts under a versioned directory and update latest/\n",
        "version = datetime.utcnow().strftime('%Y%m%d_%H%M%S')\n",
        "version_dir = os.path.join(VERSIONS_DIR, version)\n",
        "os.makedirs(version_dir, exist_ok=True)\n",
        "\n",
        "# Persist target scaler and model\n",
        "import joblib\n",
        "joblib.dump(y_scaler, os.path.join(version_dir, 'series_minmax_scaler.pkl'))\n",
        "model.save(os.path.join(version_dir, 'gru_energy_forecaster.keras'))\n",
        "model.save_weights(os.path.join(version_dir, 'gru_energy_forecaster.weights.h5'))\n",
        "\n",
        "# overwrite latest/ by copying\n",
        "for fname in ['series_minmax_scaler.pkl','gru_energy_forecaster.keras','gru_energy_forecaster.weights.h5']:\n",
        "    shutil.copy(os.path.join(version_dir,fname), os.path.join(LATEST_DIR,fname))\n",
        "version_dir\n"
      ]
    }
  ],
  "metadata": {
    "kernelspec": {
      "display_name": "peakguard-api-OazVhKT_-py3.10",
      "language": "python",
      "name": "python3"
    },
    "language_info": {
      "codemirror_mode": {
        "name": "ipython",
        "version": 3
      },
      "file_extension": ".py",
      "mimetype": "text/x-python",
      "name": "python",
      "nbconvert_exporter": "python",
      "pygments_lexer": "ipython3",
      "version": "3.10.12"
    }
  },
  "nbformat": 4,
  "nbformat_minor": 2
}
